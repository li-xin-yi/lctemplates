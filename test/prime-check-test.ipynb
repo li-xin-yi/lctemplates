{
  "nbformat": 4,
  "nbformat_minor": 0,
  "metadata": {
    "colab": {
      "provenance": []
    },
    "kernelspec": {
      "name": "python3",
      "display_name": "Python 3"
    },
    "language_info": {
      "name": "python"
    }
  },
  "cells": [
    {
      "cell_type": "code",
      "execution_count": 1,
      "metadata": {
        "id": "Lc1gskphboLe"
      },
      "outputs": [],
      "source": [
        "def prime_filter_lst(n):\n",
        "  \"\"\"\n",
        "  This method uses a list of existing prime numbers to filter out numbers that are not prime\n",
        "  Return a list of prime numbers <= n\n",
        "  \"\"\"\n",
        "  assert n >= 2\n",
        "  primes = []\n",
        "  for i in range(2, n+1):\n",
        "    for j in primes:\n",
        "      if i % j == 0:\n",
        "        break\n",
        "      if j * j > i:\n",
        "        primes.append(i)\n",
        "        break\n",
        "    else:\n",
        "      primes.append(i)\n",
        "  return primes"
      ]
    },
    {
      "cell_type": "code",
      "source": [
        "def prime_sieve(n):\n",
        "  \"\"\"\n",
        "  This method uses Sieve of Eratosthenes to filter out numbers that are not prime\n",
        "  Return a list of prime numbers <= n\n",
        "  \"\"\"\n",
        "  assert n >= 2\n",
        "  mask = [False]* 2 + [True] * (n-1)\n",
        "  primes = []\n",
        "  for i in range(2, n+1):\n",
        "    if mask[i]:\n",
        "      primes.append(i)\n",
        "      for j in range(i*i, n+1, i):\n",
        "        mask[j] = False\n",
        "  return [i for i in range(2, n+1) if mask[i]]"
      ],
      "metadata": {
        "id": "zDFHk7sUbp_G"
      },
      "execution_count": 2,
      "outputs": []
    },
    {
      "cell_type": "code",
      "source": [
        "N = 1000000"
      ],
      "metadata": {
        "id": "OIEs0RezD7nm"
      },
      "execution_count": 3,
      "outputs": []
    },
    {
      "cell_type": "code",
      "source": [
        "%%timeit\n",
        "prime_filter_lst(N)"
      ],
      "metadata": {
        "id": "seZzAMQab0HJ",
        "colab": {
          "base_uri": "https://localhost:8080/"
        },
        "outputId": "0745feda-552e-48dc-9ed8-e4326c88a0af"
      },
      "execution_count": 4,
      "outputs": [
        {
          "output_type": "stream",
          "name": "stdout",
          "text": [
            "1.22 s ± 328 ms per loop (mean ± std. dev. of 7 runs, 1 loop each)\n"
          ]
        }
      ]
    },
    {
      "cell_type": "code",
      "source": [
        "%%timeit\n",
        "prime_sieve(N)"
      ],
      "metadata": {
        "colab": {
          "base_uri": "https://localhost:8080/"
        },
        "id": "IfKAVOPfB0QI",
        "outputId": "052f2647-0d63-4baa-e4b7-7f7418ce4359"
      },
      "execution_count": 5,
      "outputs": [
        {
          "output_type": "stream",
          "name": "stdout",
          "text": [
            "146 ms ± 28.4 ms per loop (mean ± std. dev. of 7 runs, 10 loops each)\n"
          ]
        }
      ]
    },
    {
      "cell_type": "markdown",
      "source": [
        "Rewrite the [sieve of Eratosthenes](https://en.wikipedia.org/wiki/Sieve_of_Eratosthenes) in Numpy."
      ],
      "metadata": {
        "id": "3vVOWteGCV7e"
      }
    },
    {
      "cell_type": "code",
      "source": [
        "import numpy as np"
      ],
      "metadata": {
        "id": "Qj_zS20FCNve"
      },
      "execution_count": 6,
      "outputs": []
    },
    {
      "cell_type": "code",
      "source": [
        "def prime_sieve_np(n):\n",
        "  \"\"\"\n",
        "  This method uses Sieve of Eratosthenes to gives a list of prime numbers <= n\n",
        "  Rewrite in numpy\n",
        "  \"\"\"\n",
        "  assert n >= 2\n",
        "  mask = np.ones(n+1, dtype=bool)\n",
        "  for i in range(2, n+1):\n",
        "    if mask[i]:\n",
        "      mask[i*i::i] = False\n",
        "  return np.arange(n+1)[mask].tolist()"
      ],
      "metadata": {
        "id": "5ugKkxOxCwZx"
      },
      "execution_count": 7,
      "outputs": []
    },
    {
      "cell_type": "code",
      "source": [
        "%%timeit\n",
        "prime_sieve_np(N)"
      ],
      "metadata": {
        "colab": {
          "base_uri": "https://localhost:8080/"
        },
        "id": "2fsNStEEDvJP",
        "outputId": "8fde8a33-3a9a-4928-9713-419b5e76d97f"
      },
      "execution_count": 8,
      "outputs": [
        {
          "output_type": "stream",
          "name": "stdout",
          "text": [
            "101 ms ± 23.5 ms per loop (mean ± std. dev. of 7 runs, 10 loops each)\n"
          ]
        }
      ]
    },
    {
      "cell_type": "code",
      "source": [],
      "metadata": {
        "id": "wo9079GHDxXu"
      },
      "execution_count": 8,
      "outputs": []
    }
  ]
}