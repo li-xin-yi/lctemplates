{
 "cells": [
  {
   "cell_type": "code",
   "execution_count": 1,
   "metadata": {},
   "outputs": [],
   "source": [
    "import matplotlib.pyplot as plt\n",
    "import matplotlib.animation as animation  \n",
    "import numpy as np\n",
    "import seaborn as sns\n",
    "custom_params = {\"axes.spines.right\": False, \"axes.spines.top\": False}\n",
    "sns.set(style=\"white\", rc=custom_params)"
   ]
  },
  {
   "cell_type": "code",
   "execution_count": 2,
   "metadata": {},
   "outputs": [],
   "source": [
    "# test case to demo\n",
    "nums = [2,8,13,17,22,29]\n",
    "k = 61\n",
    "n = len(nums)"
   ]
  },
  {
   "cell_type": "code",
   "execution_count": 3,
   "metadata": {},
   "outputs": [],
   "source": [
    "# define color\n",
    "viridis = plt.cm.get_cmap('viridis', n)\n",
    "colors = viridis(np.linspace(0, 1, n))"
   ]
  },
  {
   "cell_type": "code",
   "execution_count": 4,
   "metadata": {},
   "outputs": [],
   "source": [
    "greys = plt.cm.get_cmap('Greys_r', n+3)\n",
    "greys = greys(np.linspace(0, 1, n+3))"
   ]
  },
  {
   "cell_type": "code",
   "execution_count": 5,
   "metadata": {},
   "outputs": [
    {
     "data": {
      "image/png": "[encoded data removed]",
      "text/plain": [
       "<Figure size 432x288 with 1 Axes>"
      ]
     },
     "metadata": {
      "needs_background": "light"
     },
     "output_type": "display_data"
    }
   ],
   "source": [
    "ax = plt.subplot()\n",
    "bar_outline = ax.bar(np.arange(n), nums,align='center',color='white',edgecolor='black',width=1)\n",
    "bar_fill = ax.bar(np.arange(n), nums,align='center',alpha=0.2,color=colors,edgecolor='white',width=1)\n",
    "ax.set_xlabel('index i')\n",
    "ax.set_ylabel('nums[i]')\n",
    "ax.margins(0.01)"
   ]
  },
  {
   "cell_type": "markdown",
   "metadata": {},
   "source": [
    "# Create the animation"
   ]
  },
  {
   "cell_type": "code",
   "execution_count": 6,
   "metadata": {},
   "outputs": [],
   "source": [
    "global k\n",
    "k = 61\n",
    "def update_ani(i):\n",
    "    global k\n",
    "    if i == 0:\n",
    "        ax.set_title(f'k={k}')\n",
    "        return\n",
    "    if i == 5 or i == 6:\n",
    "        d,r = divmod(k,5)\n",
    "        if i == 5:\n",
    "            ax.set_title(f'k = {k-d*5}')\n",
    "            ax.plot([-0.5,4.5],[nums[4]+d,nums[4]+d],color='black',linestyle='--',linewidth=1)\n",
    "            ax.fill_between([-0.5,4.5],nums[4],nums[4]+d,color=greys[i],alpha=0.2)\n",
    "            ax.text(i/2,nums[4]+d,f'min={nums[4]+d}',ha='center',va='bottom',fontsize=10)\n",
    "        else:\n",
    "            ax.set_title(f'k = 0')\n",
    "            ax.plot([4.5-r,4.5],[nums[4]+d+1,nums[4]+d+1],color='black',linestyle='--',linewidth=1)\n",
    "            ax.fill_between([4.5-r,4.5],nums[4]+d,nums[4]+d+1,color=greys[i],alpha=0.2)\n",
    "            ax.text((4.5-r+4.5)/2,nums[4]+d+1,f'min={nums[4]+d+1}',ha='center',va='bottom',fontsize=10)\n",
    "            # ax.axvline(x=4.5-r,ymin=0,ymax=nums[4]+d+1,color='black',linestyle='--',linewidth=1)\n",
    "            ax.plot([4.5-r,4.5-r],[0,nums[4]+d+1],color='black',linestyle='--',linewidth=1)\n",
    "        return\n",
    "    ax.plot([-0.5,i-0.5],[nums[i],nums[i]],color='black',linestyle='--',linewidth=1)\n",
    "    ax.fill_between([-0.5,i-0.5],nums[i-1],nums[i],color=greys[i],alpha=0.2)\n",
    "    ax.text(i/2,nums[i],f'min={nums[i]}',ha='center',va='bottom',fontsize=10)\n",
    "    ax.set_title(f'k={k}-{i}*({nums[i]} - {nums[i-1]})={k - i*(nums[i] - nums[i-1])}')\n",
    "    k-=i*(nums[i] - nums[i-1])"
   ]
  },
  {
   "cell_type": "code",
   "execution_count": 7,
   "metadata": {},
   "outputs": [],
   "source": [
    "ani = animation.FuncAnimation(ax.get_figure(), update_ani, frames=n+1, interval=1200, blit=False)"
   ]
  },
  {
   "cell_type": "code",
   "execution_count": 8,
   "metadata": {},
   "outputs": [
    {
     "name": "stderr",
     "output_type": "stream",
     "text": [
      "MovieWriter Pillow unavailable; using Pillow instead.\n"
     ]
    }
   ],
   "source": [
    "ani.save('../docs/images/load-balancer.gif', writer='Pillow', fps=1, dpi=200)"
   ]
  },
  {
   "cell_type": "code",
   "execution_count": 9,
   "metadata": {},
   "outputs": [
    {
     "data": {
      "image/png": "[encoded data removed]",
      "text/plain": [
       "<Figure size 432x288 with 1 Axes>"
      ]
     },
     "execution_count": 9,
     "metadata": {},
     "output_type": "execute_result"
    }
   ],
   "source": [
    "ax.get_figure()"
   ]
  },
  {
   "cell_type": "markdown",
   "metadata": {},
   "source": [
    "## Step by step illustration\n",
    "plot in each iteration"
   ]
  },
  {
   "cell_type": "code",
   "execution_count": 10,
   "metadata": {},
   "outputs": [
    {
     "data": {
      "image/png": "[encoded data removed]",
      "text/plain": [
       "<Figure size 432x288 with 1 Axes>"
      ]
     },
     "metadata": {
      "needs_background": "light"
     },
     "output_type": "display_data"
    }
   ],
   "source": [
    "# base plot of `nums`\n",
    "\n",
    "ax = plt.subplot()\n",
    "bar_outline = ax.bar(np.arange(n), nums,align='center',color='white',edgecolor='black',width=1)\n",
    "bar_fill = ax.bar(np.arange(n), nums,align='center',alpha=0.2,color=colors,edgecolor='white',width=1)\n",
    "ax.set_xlabel('index i')\n",
    "ax.set_ylabel('nums[i]')\n",
    "ax.margins(0.01)"
   ]
  },
  {
   "cell_type": "code",
   "execution_count": 11,
   "metadata": {},
   "outputs": [
    {
     "name": "stdout",
     "output_type": "stream",
     "text": [
      "k=55, i=1\n",
      "k=45, i=2\n",
      "k=33, i=3\n",
      "k=13, i=4\n",
      "d=2, r=3\n"
     ]
    }
   ],
   "source": [
    "k = 61\n",
    "for i in range(1,n):\n",
    "    if k < i*(nums[i] - nums[i-1]):\n",
    "        d,r = divmod(k,i)\n",
    "        print(f'd={d}, r={r}')\n",
    "        # first provide all i previous ones with `d`\n",
    "        ax.plot([-0.5,i-0.5],[nums[i-1]+d,nums[i-1]+d],color='black',linestyle='--',linewidth=1)\n",
    "        ax.fill_between([-0.5,i-0.5],nums[i-1],nums[i-1]+d,color=greys[i],alpha=0.2)\n",
    "        ax.text(i/2,nums[4]+d,f'min={nums[i-1]+d}',ha='center',va='bottom',fontsize=10)\n",
    "        # then give 1 to the rest r nums\n",
    "        ax.plot([i-0.5-r,i-0.5],[nums[i-1]+d+1,nums[i-1]+d+1],color='black',linestyle='--',linewidth=1)\n",
    "        ax.fill_between([i-0.5-r,i-0.5],nums[i-1]+d,nums[i-1]+d+1,color=greys[i],alpha=0.2)\n",
    "        ax.text((i-0.5-r+i-0.5)/2,nums[i-1]+d+1,f'min={nums[i-1]+d+1}',ha='center',va='bottom',fontsize=10)\n",
    "        ax.plot([i-0.5-r,i-0.5-r],[0,nums[i-1]+d+1],color='black',linestyle='--',linewidth=1)\n",
    "        break\n",
    "    ax.plot([-0.5,i-0.5],[nums[i],nums[i]],color='black',linestyle='--',linewidth=1)\n",
    "    ax.fill_between([-0.5,i-0.5],nums[i-1],nums[i],color=greys[i],alpha=0.2)\n",
    "    ax.text(i/2,nums[i],f'min={nums[i]}',ha='center',va='bottom',fontsize=10)\n",
    "    k-=i*(nums[i] - nums[i-1])\n",
    "    print(f'k={k}, i={i}')"
   ]
  },
  {
   "cell_type": "code",
   "execution_count": 12,
   "metadata": {},
   "outputs": [
    {
     "data": {
      "image/png": "[encoded data removed]",
      "text/plain": [
       "<Figure size 432x288 with 1 Axes>"
      ]
     },
     "execution_count": 12,
     "metadata": {},
     "output_type": "execute_result"
    }
   ],
   "source": [
    "ax.get_figure()"
   ]
  },
  {
   "cell_type": "code",
   "execution_count": null,
   "metadata": {},
   "outputs": [],
   "source": []
  }
 ],
 "metadata": {
  "kernelspec": {
   "display_name": "Python 3.7.4 ('base')",
   "language": "python",
   "name": "python3"
  },
  "language_info": {
   "codemirror_mode": {
    "name": "ipython",
    "version": 3
   },
   "file_extension": ".py",
   "mimetype": "text/x-python",
   "name": "python",
   "nbconvert_exporter": "python",
   "pygments_lexer": "ipython3",
   "version": "3.7.4"
  },
  "orig_nbformat": 4,
  "vscode": {
   "interpreter": {
    "hash": "ad2bdc8ecc057115af97d19610ffacc2b4e99fae6737bb82f5d7fb13d2f2c186"
   }
  }
 },
 "nbformat": 4,
 "nbformat_minor": 2
}
